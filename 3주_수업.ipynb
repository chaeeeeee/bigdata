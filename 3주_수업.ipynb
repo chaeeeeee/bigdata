{
 "cells": [
  {
   "cell_type": "code",
   "execution_count": 1,
   "metadata": {},
   "outputs": [],
   "source": [
    "import sqlite3\n",
    "import pandas as pd\n",
    "from sqlite3 import connect"
   ]
  },
  {
   "cell_type": "code",
   "execution_count": 2,
   "metadata": {},
   "outputs": [],
   "source": [
    "DB_PATH = 'c:\\\\Users\\\\karac\\\\OneDrive\\\\바탕 화면\\\\bigdata\\\\test.sqlite'"
   ]
  },
  {
   "cell_type": "code",
   "execution_count": 3,
   "metadata": {},
   "outputs": [],
   "source": [
    "with connect(DB_PATH) as db:\n",
    "    db.execute(\"\"\"\n",
    "    CREATE TABLE IF NOT EXISTS Orders (\n",
    "               order_id INT,\n",
    "               item VARCHAR(40),\n",
    "               amount INT,\n",
    "               customer_id INT REFERENCES Customers(id),\n",
    "               CONSTRAINT OrderPK PRIMARY KEY (order_id)\n",
    "            )   \n",
    "    \"\"\")"
   ]
  },
  {
   "cell_type": "code",
   "execution_count": 4,
   "metadata": {},
   "outputs": [],
   "source": [
    "with connect(DB_PATH) as pd:\n",
    "    db.execute(\"\"\"\n",
    "    CREATE TABLE IF NOT EXISTS Customers (\n",
    "               id INT,\n",
    "               last_name VARCHAR(40),\n",
    "               first_name VARCHAR(40),\n",
    "               age INT,\n",
    "               country VARCHAR(10),\n",
    "               CONSTRAINT CustomerPK PRIMARY KEY (id) \n",
    "            )\n",
    "    \"\"\")"
   ]
  },
  {
   "cell_type": "code",
   "execution_count": 5,
   "metadata": {},
   "outputs": [
    {
     "name": "stdout",
     "output_type": "stream",
     "text": [
      "        name\n",
      "0     Orders\n",
      "1  Customers\n"
     ]
    }
   ],
   "source": [
    "## 테이블 확인\n",
    "import pandas as pd\n",
    "\n",
    "conn = sqlite3.connect(DB_PATH)\n",
    "cursor = conn.cursor()\n",
    "table = pd.read_sql_query(\"SELECT name FROM sqlite_master WHERE type='table'\", conn)\n",
    "print(table)"
   ]
  },
  {
   "cell_type": "code",
   "execution_count": 6,
   "metadata": {},
   "outputs": [
    {
     "data": {
      "text/html": [
       "<div>\n",
       "<style scoped>\n",
       "    .dataframe tbody tr th:only-of-type {\n",
       "        vertical-align: middle;\n",
       "    }\n",
       "\n",
       "    .dataframe tbody tr th {\n",
       "        vertical-align: top;\n",
       "    }\n",
       "\n",
       "    .dataframe thead th {\n",
       "        text-align: right;\n",
       "    }\n",
       "</style>\n",
       "<table border=\"1\" class=\"dataframe\">\n",
       "  <thead>\n",
       "    <tr style=\"text-align: right;\">\n",
       "      <th></th>\n",
       "      <th>order_id</th>\n",
       "      <th>item</th>\n",
       "      <th>amount</th>\n",
       "      <th>customer_id</th>\n",
       "    </tr>\n",
       "  </thead>\n",
       "  <tbody>\n",
       "  </tbody>\n",
       "</table>\n",
       "</div>"
      ],
      "text/plain": [
       "Empty DataFrame\n",
       "Columns: [order_id, item, amount, customer_id]\n",
       "Index: []"
      ]
     },
     "execution_count": 6,
     "metadata": {},
     "output_type": "execute_result"
    }
   ],
   "source": [
    "## table 형식으로 확인\n",
    "table = pd.read_sql_query(\"SELECT * from Orders\", conn)\n",
    "table.head()"
   ]
  },
  {
   "cell_type": "code",
   "execution_count": 7,
   "metadata": {},
   "outputs": [
    {
     "data": {
      "text/html": [
       "<div>\n",
       "<style scoped>\n",
       "    .dataframe tbody tr th:only-of-type {\n",
       "        vertical-align: middle;\n",
       "    }\n",
       "\n",
       "    .dataframe tbody tr th {\n",
       "        vertical-align: top;\n",
       "    }\n",
       "\n",
       "    .dataframe thead th {\n",
       "        text-align: right;\n",
       "    }\n",
       "</style>\n",
       "<table border=\"1\" class=\"dataframe\">\n",
       "  <thead>\n",
       "    <tr style=\"text-align: right;\">\n",
       "      <th></th>\n",
       "      <th>id</th>\n",
       "      <th>last_name</th>\n",
       "      <th>first_name</th>\n",
       "      <th>age</th>\n",
       "      <th>country</th>\n",
       "    </tr>\n",
       "  </thead>\n",
       "  <tbody>\n",
       "  </tbody>\n",
       "</table>\n",
       "</div>"
      ],
      "text/plain": [
       "Empty DataFrame\n",
       "Columns: [id, last_name, first_name, age, country]\n",
       "Index: []"
      ]
     },
     "execution_count": 7,
     "metadata": {},
     "output_type": "execute_result"
    }
   ],
   "source": [
    "## table 형식으로 확인\n",
    "table = pd.read_sql_query(\"SELECT * from Customers\", conn)\n",
    "table.head()"
   ]
  },
  {
   "cell_type": "code",
   "execution_count": 8,
   "metadata": {},
   "outputs": [
    {
     "name": "stdout",
     "output_type": "stream",
     "text": [
      "(1, '공책', 500, 5)\n",
      "(2, '펜', 10, 2)\n",
      "(3, '마커', 120, 3)\n",
      "(4, '책', 1000, 1)\n",
      "(5, '지우개', 20, 4)\n"
     ]
    }
   ],
   "source": [
    "## insert\n",
    "INSERT_SQL = 'INSERT INTO Orders(order_id, item, amount, customer_id) VALUES (?, ?, ?, ?);'\n",
    "\n",
    "# 여러 개 데이터 한 번에 추가하기\n",
    "data = (\n",
    "    (1, '공책', 500, 5),\n",
    "    (2, '펜', 10, 2),\n",
    "    (3, '마커', 120, 3),\n",
    "    (4, '책', 1000, 1),\n",
    "    (5, '지우개', 20, 4)\n",
    ")\n",
    "\n",
    "# 여러 개 값 추가\n",
    "cursor.executemany(INSERT_SQL, data)\n",
    "\n",
    "# 한 개의 값만 추가\n",
    "# cursor.execute(INSERT_SQL, (6, '형광펜', 700, 6))\n",
    "\n",
    "# commit을 꼭 해주어야 데이터베이스에 반영된다\n",
    "conn.commit()\n",
    "\n",
    "# 데이터 확인\n",
    "cursor.execute('SELECT * FROM Orders')\n",
    "item_list = cursor.fetchall()\n",
    "for i in item_list:\n",
    "    print(i)\n"
   ]
  },
  {
   "cell_type": "code",
   "execution_count": 9,
   "metadata": {},
   "outputs": [
    {
     "name": "stdout",
     "output_type": "stream",
     "text": [
      "(1, '홍', '길동', 31, '한국')\n",
      "(2, 'Luna', 'Robert', 10, '미국')\n",
      "(3, 'Kim', 'Monica', 35, '러시아')\n",
      "(4, '모리', '나나세', 59, '일본')\n",
      "(5, 'Doe', 'Betty', 20, '영국')\n"
     ]
    }
   ],
   "source": [
    "## insert\n",
    "INSERT_SQL = 'INSERT INTO Customers(id, last_name, first_name, age, country) VALUES (?, ?, ?, ?, ?);'\n",
    "\n",
    "# 여러 개 데이터 한 번에 추가하기\n",
    "data = (\n",
    "    (1, '홍', '길동', 31, '한국'),\n",
    "    (2, 'Luna', 'Robert', 10, '미국'),\n",
    "    (3, 'Kim', 'Monica', 35, '러시아'),\n",
    "    (4, '모리', '나나세', 59, '일본'),\n",
    "    (5, 'Doe', 'Betty', 20, '영국'),\n",
    ")\n",
    "\n",
    "# 여러 개 값 추가\n",
    "cursor.executemany(INSERT_SQL, data)\n",
    "\n",
    "# 한 개의 값만 추가\n",
    "# cursor.execute(INSERT_SQL, (6, '형광펜', 700, 6))\n",
    "\n",
    "# commit을 꼭 해주어야 데이터베이스에 반영된다\n",
    "conn.commit()\n",
    "\n",
    "# 데이터 확인\n",
    "cursor.execute('SELECT * FROM Customers')\n",
    "item_list = cursor.fetchall()\n",
    "for i in item_list:\n",
    "    print(i)\n"
   ]
  },
  {
   "cell_type": "code",
   "execution_count": 10,
   "metadata": {},
   "outputs": [
    {
     "data": {
      "text/html": [
       "<div>\n",
       "<style scoped>\n",
       "    .dataframe tbody tr th:only-of-type {\n",
       "        vertical-align: middle;\n",
       "    }\n",
       "\n",
       "    .dataframe tbody tr th {\n",
       "        vertical-align: top;\n",
       "    }\n",
       "\n",
       "    .dataframe thead th {\n",
       "        text-align: right;\n",
       "    }\n",
       "</style>\n",
       "<table border=\"1\" class=\"dataframe\">\n",
       "  <thead>\n",
       "    <tr style=\"text-align: right;\">\n",
       "      <th></th>\n",
       "      <th>order_id</th>\n",
       "      <th>item</th>\n",
       "      <th>amount</th>\n",
       "      <th>customer_id</th>\n",
       "    </tr>\n",
       "  </thead>\n",
       "  <tbody>\n",
       "    <tr>\n",
       "      <th>0</th>\n",
       "      <td>1</td>\n",
       "      <td>공책</td>\n",
       "      <td>500</td>\n",
       "      <td>5</td>\n",
       "    </tr>\n",
       "    <tr>\n",
       "      <th>1</th>\n",
       "      <td>2</td>\n",
       "      <td>펜</td>\n",
       "      <td>10</td>\n",
       "      <td>2</td>\n",
       "    </tr>\n",
       "    <tr>\n",
       "      <th>2</th>\n",
       "      <td>3</td>\n",
       "      <td>마커</td>\n",
       "      <td>120</td>\n",
       "      <td>3</td>\n",
       "    </tr>\n",
       "    <tr>\n",
       "      <th>3</th>\n",
       "      <td>4</td>\n",
       "      <td>책</td>\n",
       "      <td>1000</td>\n",
       "      <td>1</td>\n",
       "    </tr>\n",
       "    <tr>\n",
       "      <th>4</th>\n",
       "      <td>5</td>\n",
       "      <td>지우개</td>\n",
       "      <td>20</td>\n",
       "      <td>4</td>\n",
       "    </tr>\n",
       "  </tbody>\n",
       "</table>\n",
       "</div>"
      ],
      "text/plain": [
       "   order_id item  amount  customer_id\n",
       "0         1   공책     500            5\n",
       "1         2    펜      10            2\n",
       "2         3   마커     120            3\n",
       "3         4    책    1000            1\n",
       "4         5  지우개      20            4"
      ]
     },
     "execution_count": 10,
     "metadata": {},
     "output_type": "execute_result"
    }
   ],
   "source": [
    "table = pd.read_sql_query(\"SELECT * FROM Orders\", conn)\n",
    "table.head()"
   ]
  },
  {
   "cell_type": "code",
   "execution_count": 11,
   "metadata": {},
   "outputs": [
    {
     "data": {
      "text/html": [
       "<div>\n",
       "<style scoped>\n",
       "    .dataframe tbody tr th:only-of-type {\n",
       "        vertical-align: middle;\n",
       "    }\n",
       "\n",
       "    .dataframe tbody tr th {\n",
       "        vertical-align: top;\n",
       "    }\n",
       "\n",
       "    .dataframe thead th {\n",
       "        text-align: right;\n",
       "    }\n",
       "</style>\n",
       "<table border=\"1\" class=\"dataframe\">\n",
       "  <thead>\n",
       "    <tr style=\"text-align: right;\">\n",
       "      <th></th>\n",
       "      <th>id</th>\n",
       "      <th>last_name</th>\n",
       "      <th>first_name</th>\n",
       "      <th>age</th>\n",
       "      <th>country</th>\n",
       "    </tr>\n",
       "  </thead>\n",
       "  <tbody>\n",
       "    <tr>\n",
       "      <th>0</th>\n",
       "      <td>1</td>\n",
       "      <td>홍</td>\n",
       "      <td>길동</td>\n",
       "      <td>31</td>\n",
       "      <td>한국</td>\n",
       "    </tr>\n",
       "    <tr>\n",
       "      <th>1</th>\n",
       "      <td>2</td>\n",
       "      <td>Luna</td>\n",
       "      <td>Robert</td>\n",
       "      <td>10</td>\n",
       "      <td>미국</td>\n",
       "    </tr>\n",
       "    <tr>\n",
       "      <th>2</th>\n",
       "      <td>3</td>\n",
       "      <td>Kim</td>\n",
       "      <td>Monica</td>\n",
       "      <td>35</td>\n",
       "      <td>러시아</td>\n",
       "    </tr>\n",
       "    <tr>\n",
       "      <th>3</th>\n",
       "      <td>4</td>\n",
       "      <td>모리</td>\n",
       "      <td>나나세</td>\n",
       "      <td>59</td>\n",
       "      <td>일본</td>\n",
       "    </tr>\n",
       "    <tr>\n",
       "      <th>4</th>\n",
       "      <td>5</td>\n",
       "      <td>Doe</td>\n",
       "      <td>Betty</td>\n",
       "      <td>20</td>\n",
       "      <td>영국</td>\n",
       "    </tr>\n",
       "  </tbody>\n",
       "</table>\n",
       "</div>"
      ],
      "text/plain": [
       "   id last_name first_name  age country\n",
       "0   1         홍         길동   31      한국\n",
       "1   2      Luna     Robert   10      미국\n",
       "2   3       Kim     Monica   35     러시아\n",
       "3   4        모리        나나세   59      일본\n",
       "4   5       Doe      Betty   20      영국"
      ]
     },
     "execution_count": 11,
     "metadata": {},
     "output_type": "execute_result"
    }
   ],
   "source": [
    "table = pd.read_sql_query(\"SELECT * FROM Customers\", conn)\n",
    "table.head()"
   ]
  },
  {
   "cell_type": "code",
   "execution_count": 13,
   "metadata": {},
   "outputs": [
    {
     "data": {
      "text/html": [
       "<div>\n",
       "<style scoped>\n",
       "    .dataframe tbody tr th:only-of-type {\n",
       "        vertical-align: middle;\n",
       "    }\n",
       "\n",
       "    .dataframe tbody tr th {\n",
       "        vertical-align: top;\n",
       "    }\n",
       "\n",
       "    .dataframe thead th {\n",
       "        text-align: right;\n",
       "    }\n",
       "</style>\n",
       "<table border=\"1\" class=\"dataframe\">\n",
       "  <thead>\n",
       "    <tr style=\"text-align: right;\">\n",
       "      <th></th>\n",
       "      <th>order_id</th>\n",
       "      <th>item</th>\n",
       "      <th>amount</th>\n",
       "      <th>customer_id</th>\n",
       "    </tr>\n",
       "  </thead>\n",
       "  <tbody>\n",
       "    <tr>\n",
       "      <th>0</th>\n",
       "      <td>3</td>\n",
       "      <td>마커</td>\n",
       "      <td>120</td>\n",
       "      <td>3</td>\n",
       "    </tr>\n",
       "  </tbody>\n",
       "</table>\n",
       "</div>"
      ],
      "text/plain": [
       "   order_id item  amount  customer_id\n",
       "0         3   마커     120            3"
      ]
     },
     "execution_count": 13,
     "metadata": {},
     "output_type": "execute_result"
    }
   ],
   "source": [
    "## 김모니카의 구매내역을 보기 위해서는?\n",
    "q = \"\"\"SELECT * FROM Orders where customer_id = 3\"\"\"\n",
    "\n",
    "pd.read_sql_query(q, conn)"
   ]
  },
  {
   "cell_type": "code",
   "execution_count": 14,
   "metadata": {},
   "outputs": [
    {
     "data": {
      "text/html": [
       "<div>\n",
       "<style scoped>\n",
       "    .dataframe tbody tr th:only-of-type {\n",
       "        vertical-align: middle;\n",
       "    }\n",
       "\n",
       "    .dataframe tbody tr th {\n",
       "        vertical-align: top;\n",
       "    }\n",
       "\n",
       "    .dataframe thead th {\n",
       "        text-align: right;\n",
       "    }\n",
       "</style>\n",
       "<table border=\"1\" class=\"dataframe\">\n",
       "  <thead>\n",
       "    <tr style=\"text-align: right;\">\n",
       "      <th></th>\n",
       "      <th>id</th>\n",
       "      <th>last_name</th>\n",
       "      <th>first_name</th>\n",
       "      <th>age</th>\n",
       "      <th>country</th>\n",
       "    </tr>\n",
       "  </thead>\n",
       "  <tbody>\n",
       "    <tr>\n",
       "      <th>0</th>\n",
       "      <td>3</td>\n",
       "      <td>Kim</td>\n",
       "      <td>Monica</td>\n",
       "      <td>35</td>\n",
       "      <td>러시아</td>\n",
       "    </tr>\n",
       "  </tbody>\n",
       "</table>\n",
       "</div>"
      ],
      "text/plain": [
       "   id last_name first_name  age country\n",
       "0   3       Kim     Monica   35     러시아"
      ]
     },
     "execution_count": 14,
     "metadata": {},
     "output_type": "execute_result"
    }
   ],
   "source": [
    "## 김모니카의 정보를 보기 위해서는?\n",
    "q = \"\"\"SELECT * FROM Customers where id = 3\"\"\"\n",
    "\n",
    "pd.read_sql_query(q, conn)"
   ]
  },
  {
   "cell_type": "code",
   "execution_count": 15,
   "metadata": {},
   "outputs": [
    {
     "name": "stdout",
     "output_type": "stream",
     "text": [
      "[(3, 'Kim', 'Monica', 35, '카자흐스탄')]\n"
     ]
    }
   ],
   "source": [
    "## 김모니카 정보 UPDATE\n",
    "UPDATE_SQL = 'UPDATE Customers SET country = \"카자흐스탄\" WHERE first_name = \"Monica\";'\n",
    "cursor.execute(UPDATE_SQL)\n",
    "\n",
    "conn.commit()\n",
    "\n",
    "#확인\n",
    "cursor.execute('SELECT * FROM Customers WHERE first_name = \"Monica\";')\n",
    "updated_customer = cursor.fetchall()\n",
    "print(updated_customer)"
   ]
  }
 ],
 "metadata": {
  "kernelspec": {
   "display_name": "bigdata",
   "language": "python",
   "name": "python3"
  },
  "language_info": {
   "codemirror_mode": {
    "name": "ipython",
    "version": 3
   },
   "file_extension": ".py",
   "mimetype": "text/x-python",
   "name": "python",
   "nbconvert_exporter": "python",
   "pygments_lexer": "ipython3",
   "version": "3.9.18"
  }
 },
 "nbformat": 4,
 "nbformat_minor": 2
}
