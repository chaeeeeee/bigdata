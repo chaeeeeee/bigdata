{
 "cells": [
  {
   "cell_type": "code",
   "execution_count": null,
   "metadata": {},
   "outputs": [],
   "source": [
    "import pandas as pd\n",
    "import numpy as np\n",
    "import matplotlib.pyplot as plt"
   ]
  },
  {
   "cell_type": "code",
   "execution_count": 39,
   "metadata": {},
   "outputs": [],
   "source": [
    "from selenium import webdriver\n",
    "from selenium.webdriver.common.keys import Keys\n",
    "from selenium.webdriver.support.ui import WebDriverWait\n",
    "from selenium.common.exceptions import NoSuchElementException\n",
    "import selenium.common.exceptions as sex\n",
    "\n",
    "import pandas as pd\n",
    "import numpy as np\n",
    "\n",
    "from bs4 import BeautifulSoup\n",
    "\n",
    "import time\n",
    "from time import sleep\n",
    "import random\n",
    "import re\n",
    "from selenium.webdriver.common.by import By\n",
    "from selenium.webdriver.common.action_chains import ActionChains\n",
    "from selenium.webdriver.support.ui import WebDriverWait\n",
    "from selenium.webdriver.support import expected_conditions as EC"
   ]
  },
  {
   "cell_type": "code",
   "execution_count": 40,
   "metadata": {},
   "outputs": [],
   "source": [
    "driver = webdriver.Chrome() ## Chrome 브라우저를 자동화하기 위한 Selenium WebDriver 객체를 생성\n",
    "start_url = \"https://www.commonsensemedia.org/lists/latin-american-academy-award-winners-and-nominees\"\n",
    "driver.get(start_url) ## WebDriver를 사용하여 브라우저를 열고, start_url 변수에 저장된 URL로 이동"
   ]
  },
  {
   "cell_type": "code",
   "execution_count": 41,
   "metadata": {},
   "outputs": [],
   "source": [
    "def scroll_down():\n",
    "    elem = driver.find_element(By.TAG_NAME, \"body\") ## driver 객체를 사용하여 HTML에서 <body> 태그를 찾기\n",
    "    last_height = driver.execute_script(\"return document.body.scrollHeight\") ## 페이지의 처음 높이를 last_height 변수에 저장\n",
    "\n",
    "    while True:\n",
    "        scroll_down = 0 ## 한 번의 완전한 스크롤 다운\n",
    "        while scroll_down < 10:\n",
    "            elem.send_keys(Keys.PAGE_DOWN) ## 페이지를 아래로 스크롤\n",
    "            time.sleep(0.2) ## 각 스크롤 간의 지연을 제공\n",
    "            scroll_down += 1\n",
    "        \n",
    "        new_height = driver.execute_script(\"return document.body.scrollHeight\") ## 현재 문서의 전체 높이를 다시 가져와서 new_height에 저장\n",
    "        if new_height == last_height: ## 스크롤 다운 후의 높이와 이전 높이를 비교\n",
    "            break ## 만약 두 값이 같다면, 새로운 콘텐츠가 더 이상 로드되지 않아 스크롤이 끝났다고 가정하고 루프를 탈출\n",
    "\n",
    "        last_height = new_height ## 새로운 높이를 이전 높이로 설정하여 다음 스크롤 다운과의 비교를 위해 준비"
   ]
  },
  {
   "cell_type": "code",
   "execution_count": 42,
   "metadata": {},
   "outputs": [],
   "source": [
    "scroll_down()"
   ]
  },
  {
   "cell_type": "code",
   "execution_count": 43,
   "metadata": {},
   "outputs": [],
   "source": [
    "page = driver.page_source ## Selenium WebDriver가 제어하는 브라우저의 페이지 소스 코드를 가져와서 page 변수에 저장\n",
    "soup = BeautifulSoup(page, 'html.parser') ## BeautifulSoup 라이브러리를 사용하여 HTML을 파싱하는 과정"
   ]
  },
  {
   "cell_type": "code",
   "execution_count": 44,
   "metadata": {},
   "outputs": [
    {
     "data": {
      "text/plain": [
       "[<h3 class=\"review-title\">\n",
       " <a class=\"link link--title\" href=\"/movie-reviews/encanto\">Encanto</a>\n",
       " </h3>,\n",
       " <h3 class=\"review-title\">\n",
       " <a class=\"link link--title\" href=\"/movie-reviews/a-little-princess\">A Little Princess</a>\n",
       " </h3>,\n",
       " <h3 class=\"review-title\">\n",
       " <a class=\"link link--title\" href=\"/movie-reviews/raya-and-the-last-dragon\">Raya and the Last Dragon</a>\n",
       " </h3>,\n",
       " <h3 class=\"review-title\">\n",
       " <a class=\"link link--title\" href=\"/tv-reviews/le-pupille\">Le Pupille</a>\n",
       " </h3>,\n",
       " <h3 class=\"review-title\">\n",
       " <a class=\"link link--title\" href=\"/movie-reviews/guillermo-del-toros-pinocchio\">Guillermo del Toro's Pinocchio</a>\n",
       " </h3>,\n",
       " <h3 class=\"review-title\">\n",
       " <a class=\"link link--title\" href=\"/movie-reviews/west-side-story\">West Side Story</a>\n",
       " </h3>,\n",
       " <h3 class=\"review-title\">\n",
       " <a class=\"link link--title\" href=\"/movie-reviews/life-of-pi\">Life of Pi</a>\n",
       " </h3>,\n",
       " <h3 class=\"review-title\">\n",
       " <a class=\"link link--title\" href=\"/movie-reviews/the-new-world\">The New World</a>\n",
       " </h3>,\n",
       " <h3 class=\"review-title\">\n",
       " <a class=\"link link--title\" href=\"/movie-reviews/west-side-story-2021\">West Side Story (2021)</a>\n",
       " </h3>,\n",
       " <h3 class=\"review-title\">\n",
       " <a class=\"link link--title\" href=\"/movie-reviews/argentina-1985\">Argentina, 1985</a>\n",
       " </h3>,\n",
       " <h3 class=\"review-title\">\n",
       " <a class=\"link link--title\" href=\"/movie-reviews/gravity\">Gravity</a>\n",
       " </h3>,\n",
       " <h3 class=\"review-title\">\n",
       " <a class=\"link link--title\" href=\"/movie-reviews/the-tree-of-life\">The Tree of Life</a>\n",
       " </h3>,\n",
       " <h3 class=\"review-title\">\n",
       " <a class=\"link link--title\" href=\"/movie-reviews/pans-labyrinth\">Pan's Labyrinth</a>\n",
       " </h3>,\n",
       " <h3 class=\"review-title\">\n",
       " <a class=\"link link--title\" href=\"/movie-reviews/sound-of-metal\">Sound of Metal</a>\n",
       " </h3>,\n",
       " <h3 class=\"review-title\">\n",
       " <a class=\"link link--title\" href=\"/movie-reviews/the-curious-case-of-benjamin-button\">The Curious Case of Benjamin Button</a>\n",
       " </h3>,\n",
       " <h3 class=\"review-title\">\n",
       " <a class=\"link link--title\" href=\"/movie-reviews/frida\">Frida</a>\n",
       " </h3>,\n",
       " <h3 class=\"review-title\">\n",
       " <a class=\"link link--title\" href=\"/movie-reviews/roma\">Roma</a>\n",
       " </h3>,\n",
       " <h3 class=\"review-title\">\n",
       " <a class=\"link link--title\" href=\"/movie-reviews/the-motorcycle-diaries\">The Motorcycle Diaries</a>\n",
       " </h3>,\n",
       " <h3 class=\"review-title\">\n",
       " <a class=\"link link--title\" href=\"/movie-reviews/birdman\">Birdman</a>\n",
       " </h3>,\n",
       " <h3 class=\"review-title\">\n",
       " <a class=\"link link--title\" href=\"/movie-reviews/the-shape-of-water\">The Shape of Water</a>\n",
       " </h3>,\n",
       " <h3 class=\"review-title\">\n",
       " <a class=\"link link--title\" href=\"/movie-reviews/babel\">Babel</a>\n",
       " </h3>,\n",
       " <h3 class=\"review-title\">\n",
       " <a class=\"link link--title\" href=\"/movie-reviews/traffic\">Traffic</a>\n",
       " </h3>,\n",
       " <h3 class=\"review-title\">\n",
       " <a class=\"link link--title\" href=\"/movie-reviews/brokeback-mountain\">Brokeback Mountain</a>\n",
       " </h3>,\n",
       " <h3 class=\"review-title\">\n",
       " <a class=\"link link--title\" href=\"/movie-reviews/a-fantastic-woman\">A Fantastic Woman</a>\n",
       " </h3>,\n",
       " <h3 class=\"review-title\">\n",
       " <a class=\"link link--title\" href=\"/movie-reviews/children-of-men\">Children of Men</a>\n",
       " </h3>,\n",
       " <h3 class=\"review-title\">\n",
       " <a class=\"link link--title\" href=\"/movie-reviews/blonde\">Blonde</a>\n",
       " </h3>,\n",
       " <h3 class=\"review-title\">\n",
       " <a class=\"link link--title\" href=\"/movie-reviews/the-revenant\">The Revenant</a>\n",
       " </h3>]"
      ]
     },
     "execution_count": 44,
     "metadata": {},
     "output_type": "execute_result"
    }
   ],
   "source": [
    "soup.find_all('h3', class_=\"review-title\") ## HTML 문서에서 <h3> 태그이면서 클래스 속성이 \"review-title\"인 모든 요소를 찾는 명령"
   ]
  },
  {
   "cell_type": "code",
   "execution_count": 61,
   "metadata": {},
   "outputs": [
    {
     "name": "stdout",
     "output_type": "stream",
     "text": [
      "Encanto\n",
      "A Little Princess\n",
      "Raya and the Last Dragon\n",
      "Le Pupille\n",
      "Guillermo del Toro's Pinocchio\n",
      "West Side Story\n",
      "Life of Pi\n",
      "The New World\n",
      "West Side Story (2021)\n",
      "Argentina, 1985\n",
      "Gravity\n",
      "The Tree of Life\n",
      "Pan's Labyrinth\n",
      "Sound of Metal\n",
      "The Curious Case of Benjamin Button\n",
      "Frida\n",
      "Roma\n",
      "The Motorcycle Diaries\n",
      "Birdman\n",
      "The Shape of Water\n",
      "Babel\n",
      "Traffic\n",
      "Brokeback Mountain\n",
      "A Fantastic Woman\n",
      "Children of Men\n",
      "Blonde\n",
      "The Revenant\n"
     ]
    }
   ],
   "source": [
    "title_list = [] ## 이 리스트는 추출한 제목들을 저장하기 위한 용도로 사용\n",
    "\n",
    "for i in soup.find_all('h3', class_=\"review-title\"): ## <h3> 태그이면서 클래스 속성이 \"review-title\"인 모든 요소를 순회\n",
    "    title = i.find('a') ## <h3> 태그 요소에서 <a> 태그를 찾아서 title 변수에 저장\n",
    "    title = title.text ## title 변수에 저장된 <a> 태그의 텍스트(내용)를 추출하여 다시 title 변수에 저장\n",
    "    title_list.append(title) ## 추출한 텍스트를 title_list 리스트에 추가\n",
    "    print(title)"
   ]
  },
  {
   "cell_type": "code",
   "execution_count": 51,
   "metadata": {},
   "outputs": [
    {
     "name": "stdout",
     "output_type": "stream",
     "text": [
      "https://www.commonsensemedia.org//movie-reviews/encanto\n",
      "https://www.commonsensemedia.org//movie-reviews/a-little-princess\n",
      "https://www.commonsensemedia.org//movie-reviews/raya-and-the-last-dragon\n",
      "https://www.commonsensemedia.org//tv-reviews/le-pupille\n",
      "https://www.commonsensemedia.org//movie-reviews/guillermo-del-toros-pinocchio\n",
      "https://www.commonsensemedia.org//movie-reviews/west-side-story\n",
      "https://www.commonsensemedia.org//movie-reviews/life-of-pi\n",
      "https://www.commonsensemedia.org//movie-reviews/the-new-world\n",
      "https://www.commonsensemedia.org//movie-reviews/west-side-story-2021\n",
      "https://www.commonsensemedia.org//movie-reviews/argentina-1985\n",
      "https://www.commonsensemedia.org//movie-reviews/gravity\n",
      "https://www.commonsensemedia.org//movie-reviews/the-tree-of-life\n",
      "https://www.commonsensemedia.org//movie-reviews/pans-labyrinth\n",
      "https://www.commonsensemedia.org//movie-reviews/sound-of-metal\n",
      "https://www.commonsensemedia.org//movie-reviews/the-curious-case-of-benjamin-button\n",
      "https://www.commonsensemedia.org//movie-reviews/frida\n",
      "https://www.commonsensemedia.org//movie-reviews/roma\n",
      "https://www.commonsensemedia.org//movie-reviews/the-motorcycle-diaries\n",
      "https://www.commonsensemedia.org//movie-reviews/birdman\n",
      "https://www.commonsensemedia.org//movie-reviews/the-shape-of-water\n",
      "https://www.commonsensemedia.org//movie-reviews/babel\n",
      "https://www.commonsensemedia.org//movie-reviews/traffic\n",
      "https://www.commonsensemedia.org//movie-reviews/brokeback-mountain\n",
      "https://www.commonsensemedia.org//movie-reviews/a-fantastic-woman\n",
      "https://www.commonsensemedia.org//movie-reviews/children-of-men\n",
      "https://www.commonsensemedia.org//movie-reviews/blonde\n",
      "https://www.commonsensemedia.org//movie-reviews/the-revenant\n"
     ]
    }
   ],
   "source": [
    "url_list = [] ## 이 리스트는 추출한 URL들을 저장하기 위한 용도로 사용\n",
    "\n",
    "for i in soup.find_all('h3', class_=\"review-title\"): ## <h3> 태그이면서 클래스 속성이 \"review-title\"인 모든 요소를 순회\n",
    "    href = i.find('a') ## <h3> 태그 요소에서 <a> 태그를 찾아서 href 변수에 저장\n",
    "    url = href.attrs['href'] ## href 변수에 저장된 <a> 태그의 href 속성 값을 추출하여 url 변수에 저장\n",
    "    url = 'https://www.commonsensemedia.org/' + url ## 출한 상대 URL을 기본 URL과 조합하여 전체 URL로 만들기\n",
    "    url_list.append(url) ## 조합한 전체 URL을 url_list 리스트에 추가\n",
    "    print(url)"
   ]
  },
  {
   "cell_type": "markdown",
   "metadata": {},
   "source": [
    "### button 활용하기"
   ]
  },
  {
   "cell_type": "code",
   "execution_count": 47,
   "metadata": {},
   "outputs": [],
   "source": [
    "## 웹 페이지에서 지정된 XPath 경로에 해당하는 요소를 찾아 클릭하는 동작을 수행\n",
    "button=driver.find_element(By.XPATH , r'//*//*//*[@id=\"review-teaser-82065\"]/div[3]/a').click()"
   ]
  },
  {
   "cell_type": "code",
   "execution_count": 48,
   "metadata": {},
   "outputs": [],
   "source": [
    "driver.back() ## 현재 브라우저 세션에서 이전 페이지로 이동하는 메서드"
   ]
  },
  {
   "cell_type": "code",
   "execution_count": 56,
   "metadata": {},
   "outputs": [],
   "source": [
    "for i in url_list[:2]: ## url_list에서 처음 두 개의 URL을 가져오기 위한 루프를 시작\n",
    "    driver.get(i) ## 각각의 URL을 순회하면서 페이지를 여는 동작을 수행\n",
    "    time.sleep(3) ## 현재 페이지가 로딩되는 동안 3초간 대기"
   ]
  },
  {
   "cell_type": "code",
   "execution_count": 63,
   "metadata": {},
   "outputs": [],
   "source": [
    "## 'title_list'와 'url_list'를 열로 하는 데이터프레임을 생성하고, 이를 'title.csv'라는 이름의 CSV 파일로 저장\n",
    "pd.DataFrame({'title' : title_list,'url' : url_list}).to_csv('title.csv')"
   ]
  },
  {
   "cell_type": "code",
   "execution_count": 64,
   "metadata": {},
   "outputs": [
    {
     "data": {
      "text/plain": [
       "'c:\\\\Users\\\\karac\\\\OneDrive\\\\바탕 화면\\\\bigdata'"
      ]
     },
     "execution_count": 64,
     "metadata": {},
     "output_type": "execute_result"
    }
   ],
   "source": [
    "/pwd"
   ]
  },
  {
   "cell_type": "code",
   "execution_count": 65,
   "metadata": {},
   "outputs": [
    {
     "data": {
      "text/html": [
       "<div>\n",
       "<style scoped>\n",
       "    .dataframe tbody tr th:only-of-type {\n",
       "        vertical-align: middle;\n",
       "    }\n",
       "\n",
       "    .dataframe tbody tr th {\n",
       "        vertical-align: top;\n",
       "    }\n",
       "\n",
       "    .dataframe thead th {\n",
       "        text-align: right;\n",
       "    }\n",
       "</style>\n",
       "<table border=\"1\" class=\"dataframe\">\n",
       "  <thead>\n",
       "    <tr style=\"text-align: right;\">\n",
       "      <th></th>\n",
       "      <th>title</th>\n",
       "      <th>url</th>\n",
       "    </tr>\n",
       "  </thead>\n",
       "  <tbody>\n",
       "    <tr>\n",
       "      <th>0</th>\n",
       "      <td>Encanto</td>\n",
       "      <td>https://www.commonsensemedia.org//movie-review...</td>\n",
       "    </tr>\n",
       "    <tr>\n",
       "      <th>1</th>\n",
       "      <td>A Little Princess</td>\n",
       "      <td>https://www.commonsensemedia.org//movie-review...</td>\n",
       "    </tr>\n",
       "    <tr>\n",
       "      <th>2</th>\n",
       "      <td>Raya and the Last Dragon</td>\n",
       "      <td>https://www.commonsensemedia.org//movie-review...</td>\n",
       "    </tr>\n",
       "    <tr>\n",
       "      <th>3</th>\n",
       "      <td>Le Pupille</td>\n",
       "      <td>https://www.commonsensemedia.org//tv-reviews/l...</td>\n",
       "    </tr>\n",
       "    <tr>\n",
       "      <th>4</th>\n",
       "      <td>Guillermo del Toro's Pinocchio</td>\n",
       "      <td>https://www.commonsensemedia.org//movie-review...</td>\n",
       "    </tr>\n",
       "  </tbody>\n",
       "</table>\n",
       "</div>"
      ],
      "text/plain": [
       "                            title  \\\n",
       "0                         Encanto   \n",
       "1               A Little Princess   \n",
       "2        Raya and the Last Dragon   \n",
       "3                      Le Pupille   \n",
       "4  Guillermo del Toro's Pinocchio   \n",
       "\n",
       "                                                 url  \n",
       "0  https://www.commonsensemedia.org//movie-review...  \n",
       "1  https://www.commonsensemedia.org//movie-review...  \n",
       "2  https://www.commonsensemedia.org//movie-review...  \n",
       "3  https://www.commonsensemedia.org//tv-reviews/l...  \n",
       "4  https://www.commonsensemedia.org//movie-review...  "
      ]
     },
     "execution_count": 65,
     "metadata": {},
     "output_type": "execute_result"
    }
   ],
   "source": [
    "df = pd.read_csv('title.csv',index_col=0) ## 'title.csv' 파일을 읽어와 데이터프레임으로 변환, 첫 번째 열을 인덱스로 사용하도록 지정\n",
    "df.head()"
   ]
  }
 ],
 "metadata": {
  "kernelspec": {
   "display_name": "bigdata",
   "language": "python",
   "name": "python3"
  },
  "language_info": {
   "codemirror_mode": {
    "name": "ipython",
    "version": 3
   },
   "file_extension": ".py",
   "mimetype": "text/x-python",
   "name": "python",
   "nbconvert_exporter": "python",
   "pygments_lexer": "ipython3",
   "version": "3.9.18"
  },
  "orig_nbformat": 4
 },
 "nbformat": 4,
 "nbformat_minor": 2
}
